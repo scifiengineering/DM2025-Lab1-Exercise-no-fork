version https://git-lfs.github.com/spec/v1
oid sha256:02cfa1451266a2501015e9960eeb1355c09519e7fd9a0ec2c31891c1f5144090
size 2177433
