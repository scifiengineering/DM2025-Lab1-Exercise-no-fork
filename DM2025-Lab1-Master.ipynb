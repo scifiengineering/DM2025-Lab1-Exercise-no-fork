version https://git-lfs.github.com/spec/v1
oid sha256:8745f77fd64252283503bdfbfac998925250e3a5d713b2ed88d150300a4b1302
size 2158101
