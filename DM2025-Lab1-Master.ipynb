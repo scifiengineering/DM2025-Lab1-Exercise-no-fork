version https://git-lfs.github.com/spec/v1
oid sha256:10c94e454aa080936398abc60dc01f0e157b41e2479b786c78202324daa88ce1
size 2206215
