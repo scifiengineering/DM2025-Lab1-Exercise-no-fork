version https://git-lfs.github.com/spec/v1
oid sha256:ce3f4223a77bea239815787dafdfddf4ce20e0dea640233bf3fab2a9e19ff530
size 159618833
