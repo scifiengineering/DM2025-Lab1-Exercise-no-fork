version https://git-lfs.github.com/spec/v1
oid sha256:c44f3afa88232bbf10d287078253ea617d898d23d9b392ae118658131a9358c2
size 2177753
