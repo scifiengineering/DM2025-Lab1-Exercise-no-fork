version https://git-lfs.github.com/spec/v1
oid sha256:81a7f0aa9174af12f222852429feca96f84de4f9022823df7ef4b4440d93ce64
size 2544226
