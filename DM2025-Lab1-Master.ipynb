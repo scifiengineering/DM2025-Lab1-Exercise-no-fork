version https://git-lfs.github.com/spec/v1
oid sha256:7d6a8acf5a8d516610c7b1da53c447478b8b143518380615a2ff451f157ffde3
size 2266205
