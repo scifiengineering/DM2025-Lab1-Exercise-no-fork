version https://git-lfs.github.com/spec/v1
oid sha256:bddda1407643f2a544e6e30bc0debfbadb21f923e980ff0029a0c8e9260358b2
size 2159318
