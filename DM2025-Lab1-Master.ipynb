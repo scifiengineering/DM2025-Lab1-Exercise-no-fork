version https://git-lfs.github.com/spec/v1
oid sha256:94f9d5660e73aef1419c3b351ce16cc785de271fd44b71de1c9276131426c5a6
size 2176449
