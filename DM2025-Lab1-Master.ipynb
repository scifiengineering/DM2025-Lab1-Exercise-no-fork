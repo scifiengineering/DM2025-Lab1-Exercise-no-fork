version https://git-lfs.github.com/spec/v1
oid sha256:10583ec1e2b7ca4b69f9fb254114b2b12a149e4c1b13a9ed738cbe2604f3c04c
size 2206144
