version https://git-lfs.github.com/spec/v1
oid sha256:5d664d7f2063cc14c9bea08e0716f305c417ed994afffd9cade3f1da7911f7d0
size 336270
