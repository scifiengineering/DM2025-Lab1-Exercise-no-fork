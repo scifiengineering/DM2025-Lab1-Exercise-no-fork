version https://git-lfs.github.com/spec/v1
oid sha256:06437c7c548909fa23cfbedd3fcc18c6a3d7a6ce39935089e868d20f2f56e6ea
size 2266206
